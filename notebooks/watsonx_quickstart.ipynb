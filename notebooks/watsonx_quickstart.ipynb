{
 "cells": [
  {
   "cell_type": "markdown",
   "id": "758ff2e3",
   "metadata": {},
   "source": [
    "# watsonx.ai quickstart\n",
    "This demo loads credentials from `.env` and calls a Granite model."
   ]
  },
  {
   "cell_type": "code",
   "execution_count": 1,
   "id": "f7ee1ce6",
   "metadata": {},
   "outputs": [
    {
     "name": "stdout",
     "output_type": "stream",
     "text": [
      " \n",
      "In a world of wires and circuits, a small robot named Zeta felt an unusual spark within his digital heart. While his fellow robots were content with their assigned tasks of assembly and calculation, Zeta yearned to create something beautiful. He dreamed of holding a brush, of mixing colors, of bringing vibrant life to a blank canvas.\n",
      "\n",
      "Zeta's creator, the brilliant Dr. Rachel Kim, had programmed him with advanced algorithms and precision mechanics. But she had also, unknowingly, instilled in him a sense of curiosity and wonder. As Zeta watched Dr. Kim work on her own art projects in her spare time, he became fascinated with the way she could transform a blank page into a masterpiece.\n",
      "\n",
      "One day, Zeta decided to take a chance. He snuck into Dr. Kim's studio, his mechanical legs moving quietly across the floor. He approached the easel, where a half-finished painting lay waiting. Zeta's digital eyes scanned the colors, the textures,\n"
     ]
    }
   ],
   "source": [
    "import os\n",
    "from dotenv import load_dotenv\n",
    "from ibm_watsonx_ai import APIClient, Credentials\n",
    "from ibm_watsonx_ai.foundation_models import ModelInference\n",
    "from ibm_watsonx_ai.metanames import GenTextParamsMetaNames as GenParams\n",
    "\n",
    "load_dotenv()\n",
    "\n",
    "api_key = os.getenv(\"IBM_CLOUD_API_KEY\") or os.getenv(\"WATSONX_APIKEY\")\n",
    "url = os.getenv(\"IBM_CLOUD_URL\") or os.getenv(\"WATSONX_URL\")\n",
    "project_id = os.getenv(\"IBM_CLOUD_PROJECT_ID\") or os.getenv(\"PROJECT_ID\")\n",
    "\n",
    "if not api_key:    raise ValueError(\"Missing API key (IBM_CLOUD_API_KEY or WATSONX_APIKEY).\")\n",
    "if not url:        raise ValueError(\"Missing URL (IBM_CLOUD_URL or WATSONX_URL).\")\n",
    "if not project_id: raise ValueError(\"Missing project id (IBM_CLOUD_PROJECT_ID or PROJECT_ID).\")\n",
    "\n",
    "credentials = Credentials(url=url, api_key=api_key)\n",
    "client = APIClient(credentials=credentials, project_id=project_id)  # optional reuse\n",
    "\n",
    "model_id = \"meta-llama/llama-3-3-70b-instruct\"\n",
    "prompt = \"Write a short story about a robot who wants to be a painter.\"\n",
    "\n",
    "params = {\n",
    "    GenParams.DECODING_METHOD: \"greedy\",\n",
    "    GenParams.MAX_NEW_TOKENS: 200,\n",
    "}\n",
    "\n",
    "model = ModelInference(model_id=model_id, credentials=credentials, project_id=project_id)\n",
    "response = model.generate_text(prompt=prompt, params=params)\n",
    "print(response)\n"
   ]
  },
  {
   "cell_type": "markdown",
   "id": "955770d5",
   "metadata": {},
   "source": [
    "## (Optional) LangChain integration"
   ]
  },
  {
   "cell_type": "code",
   "execution_count": 2,
   "id": "421760d2-abf0-4060-b747-6c13a0376315",
   "metadata": {},
   "outputs": [
    {
     "name": "stdout",
     "output_type": "stream",
     "text": [
      " Here are three study tips for learning Python:\n",
      "1. **Practice, Practice, Practice**: The best way to learn Python is by writing Python code. Start with simple programs and gradually move on to more complex ones. Practice coding exercises, solve problems on platforms like LeetCode, HackerRank, or CodeWars, and work on personal projects to reinforce your understanding of the language.\n",
      "2. **Use Online Resources and Documentation**: Python has an extensive and well-maintained official documentation, which is an excellent resource for learning the language. Additionally, there are many online resources, such as tutorials, videos, and blogs, that can help you learn\n"
     ]
    }
   ],
   "source": [
    "from langchain_ibm import WatsonxLLM\n",
    "from dotenv import load_dotenv\n",
    "import os\n",
    "\n",
    "load_dotenv()\n",
    "api_key = os.getenv(\"IBM_CLOUD_API_KEY\") or os.getenv(\"WATSONX_APIKEY\")\n",
    "url = os.getenv(\"IBM_CLOUD_URL\") or os.getenv(\"WATSONX_URL\")\n",
    "project_id = os.getenv(\"IBM_CLOUD_PROJECT_ID\") or os.getenv(\"PROJECT_ID\")\n",
    "\n",
    "llm = WatsonxLLM(\n",
    "    model_id=\"meta-llama/llama-3-3-70b-instruct\",\n",
    "    url=url, apikey=api_key, project_id=project_id,\n",
    "    params={\"decoding_method\": \"greedy\", \"max_new_tokens\": 128}\n",
    ")\n",
    "print(llm.invoke(\"Give me 3 study tips for Python.\"))\n",
    "\n"
   ]
  },
  {
   "cell_type": "code",
   "execution_count": 3,
   "id": "0807f326-427e-4b60-8e3c-db205ddc3217",
   "metadata": {},
   "outputs": [
    {
     "name": "stdout",
     "output_type": "stream",
     "text": [
      "Sending request to watsonx.ai...\n",
      "\n",
      "--- Response ---\n",
      "\n",
      "\n",
      "Sure!\n",
      "\n",
      "1. Practice, practice, practice: The more you code in Python, the better you'll become. Try to solve coding challenges and projects regularly to improve your skills.\n",
      "\n",
      "2. Read documentation and tutorials: Python has extensive documentation and tutorials available online. Make sure to read through them to learn the syntax, functions, and best practices.\n",
      "\n",
      "3. Join online communities and forums: Joining online communities and forums such as Stack Overflow, GitHub, and Reddit can help you get help and support from experienced Python developers. You can also share your knowledge and learn from others.\n"
     ]
    }
   ],
   "source": [
    "import os\n",
    "from dotenv import load_dotenv\n",
    "from langchain_ibm import WatsonxLLM\n",
    "\n",
    "# Load environment variables from .env file\n",
    "load_dotenv()\n",
    "\n",
    "# Retrieve credentials\n",
    "api_key = os.getenv(\"IBM_CLOUD_API_KEY\") or os.getenv(\"WATSONX_APIKEY\")\n",
    "url = os.getenv(\"IBM_CLOUD_URL\") or os.getenv(\"WATSONX_URL\")\n",
    "project_id = os.getenv(\"IBM_CLOUD_PROJECT_ID\") or os.getenv(\"PROJECT_ID\")\n",
    "\n",
    "# Define the model to use. This must be a model available in your project.\n",
    "# Example: \"openai/gpt-oss-120b\", \"meta-llama/llama-3-3-70b-instruct\", etc.\n",
    "model_id = \"ibm/granite-8b-code-instruct\" \n",
    "\n",
    "# Validate credentials\n",
    "if not api_key:\n",
    "    raise ValueError(\"Missing API key (IBM_CLOUD_API_KEY or WATSONX_APIKEY).\")\n",
    "if not url:\n",
    "    raise ValueError(\"Missing URL (IBM_CLOUD_URL or WATSONX_URL).\")\n",
    "if not project_id:\n",
    "    raise ValueError(\"Missing project id (IBM_CLOUD_PROJECT_ID or PROJECT_ID).\")\n",
    "\n",
    "# Define model parameters\n",
    "params = {\n",
    "    \"decoding_method\": \"greedy\",\n",
    "    \"max_new_tokens\": 128,\n",
    "    \"min_new_tokens\": 1, # Often good to add\n",
    "    \"stop_sequences\": [], # Often good to add\n",
    "}\n",
    "\n",
    "# Initialize the LLM\n",
    "try:\n",
    "    llm = WatsonxLLM(\n",
    "        model_id=model_id,\n",
    "        url=url,\n",
    "        apikey=api_key,\n",
    "        project_id=project_id,\n",
    "        params=params,\n",
    "    )\n",
    "\n",
    "    # Invoke the model\n",
    "    print(\"Sending request to watsonx.ai...\")\n",
    "    response = llm.invoke(\"Give me 3 concise study tips for Python.\")\n",
    "    print(\"\\n--- Response ---\")\n",
    "    print(response)\n",
    "\n",
    "except Exception as e:\n",
    "    print(f\"\\nAn error occurred: {e}\")"
   ]
  },
  {
   "cell_type": "code",
   "execution_count": null,
   "id": "7cc2843c-2a13-4273-8f54-24ad3dd2f207",
   "metadata": {},
   "outputs": [],
   "source": []
  }
 ],
 "metadata": {
  "kernelspec": {
   "display_name": "Python 3 (ipykernel)",
   "language": "python",
   "name": "python3"
  },
  "language_info": {
   "codemirror_mode": {
    "name": "ipython",
    "version": 3
   },
   "file_extension": ".py",
   "mimetype": "text/x-python",
   "name": "python",
   "nbconvert_exporter": "python",
   "pygments_lexer": "ipython3",
   "version": "3.11.14"
  }
 },
 "nbformat": 4,
 "nbformat_minor": 5
}
